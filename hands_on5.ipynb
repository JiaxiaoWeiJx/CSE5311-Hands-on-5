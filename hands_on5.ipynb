{
  "nbformat": 4,
  "nbformat_minor": 0,
  "metadata": {
    "colab": {
      "provenance": []
    },
    "kernelspec": {
      "name": "python3",
      "display_name": "Python 3"
    },
    "language_info": {
      "name": "python"
    }
  },
  "cells": [
    {
      "cell_type": "code",
      "execution_count": 1,
      "metadata": {
        "colab": {
          "base_uri": "https://localhost:8080/"
        },
        "id": "ZijZ0p5Khedw",
        "outputId": "0c0e6b62-19fc-4e0e-d9b4-8ab157b74c32"
      },
      "outputs": [
        {
          "output_type": "stream",
          "name": "stdout",
          "text": [
            "Example 1: Integer values\n",
            "Original heap: [1, 4, 5, 9, 8, 7]\n",
            "Popping root: 1\n",
            "Heap after popping root: [4, 7, 5, 9, 8, 7]\n",
            "\n",
            "Example 2: Float values\n",
            "Original heap: [1.8, 4.2, 5.7, 9.5, 8.3, 7.1]\n",
            "Popping root: 1.8\n",
            "Heap after popping root: [4.2, 7.1, 5.7, 9.5, 8.3, 7.1]\n"
          ]
        }
      ],
      "source": [
        "class MinHeap:\n",
        "    def __init__(self):\n",
        "        self.heap = []\n",
        "        self.size = 0\n",
        "\n",
        "    def parent(self, i):\n",
        "        return (i - 1) >> 1\n",
        "\n",
        "    def left(self, i):\n",
        "        return (i << 1) + 1\n",
        "\n",
        "    def right(self, i):\n",
        "        return (i << 1) + 2\n",
        "\n",
        "    def heapify(self, i):\n",
        "        l = self.left(i)\n",
        "        r = self.right(i)\n",
        "        smallest = i\n",
        "        if l < self.size and self.heap[l] < self.heap[smallest]:\n",
        "            smallest = l\n",
        "        if r < self.size and self.heap[r] < self.heap[smallest]:\n",
        "            smallest = r\n",
        "        if smallest != i:\n",
        "            self.heap[i], self.heap[smallest] = self.heap[smallest], self.heap[i]\n",
        "            self.heapify(smallest)\n",
        "\n",
        "    def build_min_heap(self, array):\n",
        "        self.heap = array\n",
        "        self.size = len(array)\n",
        "        for i in range(self.size // 2, -1, -1):\n",
        "            self.heapify(i)\n",
        "\n",
        "    def pop_root(self):\n",
        "        if self.size == 0:\n",
        "            return None\n",
        "        root = self.heap[0]\n",
        "        self.heap[0] = self.heap[self.size - 1]\n",
        "        self.size -= 1\n",
        "        self.heapify(0)\n",
        "        return root\n",
        "\n",
        "# Example usage\n",
        "if __name__ == \"__main__\":\n",
        "    # Example 1: Integer values\n",
        "    print(\"Example 1: Integer values\")\n",
        "    integer_heap = MinHeap()\n",
        "    integer_heap.build_min_heap([9, 4, 7, 1, 8, 5])\n",
        "    print(\"Original heap:\", integer_heap.heap)\n",
        "    print(\"Popping root:\", integer_heap.pop_root())\n",
        "    print(\"Heap after popping root:\", integer_heap.heap)\n",
        "\n",
        "    # Example 2: Float values\n",
        "    print(\"\\nExample 2: Float values\")\n",
        "    float_heap = MinHeap()\n",
        "    float_heap.build_min_heap([9.5, 4.2, 7.1, 1.8, 8.3, 5.7])\n",
        "    print(\"Original heap:\", float_heap.heap)\n",
        "    print(\"Popping root:\", float_heap.pop_root())\n",
        "    print(\"Heap after popping root:\", float_heap.heap)\n"
      ]
    }
  ]
}